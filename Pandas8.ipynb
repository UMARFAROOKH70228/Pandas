{
 "cells": [
  {
   "cell_type": "code",
   "execution_count": 25,
   "metadata": {},
   "outputs": [],
   "source": [
    "import numpy as np\n",
    "import pandas as pd"
   ]
  },
  {
   "cell_type": "code",
   "execution_count": 26,
   "metadata": {},
   "outputs": [
    {
     "name": "stdout",
     "output_type": "stream",
     "text": [
      "Labels: ['a', 'b', 'c', 'd']\n",
      "My data: [10, 20, 30, 40]\n",
      "Dictionary: {'a': 10, 'b': 20, 'c': 30, 'd': 40}\n"
     ]
    }
   ],
   "source": [
    "labels = ['a','b','c','d']\n",
    "my_data = [10,20,30,40,]\n",
    "arr = np.array(my_data)\n",
    "d = {'a':10,'b':20,'c':30,'d':40}\n",
    "print(\"Labels:\",labels)\n",
    "print(\"My data:\",my_data)\n",
    "print(\"Dictionary:\",d)"
   ]
  },
  {
   "cell_type": "code",
   "execution_count": 27,
   "metadata": {},
   "outputs": [
    {
     "data": {
      "text/plain": [
       "a    10\n",
       "b    20\n",
       "c    30\n",
       "d    40\n",
       "dtype: int64"
      ]
     },
     "execution_count": 27,
     "metadata": {},
     "output_type": "execute_result"
    }
   ],
   "source": [
    "pd.Series(data=my_data,index=labels)"
   ]
  },
  {
   "cell_type": "code",
   "execution_count": 28,
   "metadata": {},
   "outputs": [
    {
     "name": "stdout",
     "output_type": "stream",
     "text": [
      "\n",
      " Holding numerical data \n",
      "--------------------\n",
      "0    10\n",
      "1    20\n",
      "2    30\n",
      "3    40\n",
      "dtype: int32\n"
     ]
    }
   ],
   "source": [
    "print(\"\\n Holding numerical data \\n\",'-'*20,sep='')\n",
    "print(pd.Series(arr))"
   ]
  },
  {
   "cell_type": "code",
   "execution_count": 29,
   "metadata": {},
   "outputs": [
    {
     "name": "stdout",
     "output_type": "stream",
     "text": [
      "\n",
      " Holding text labels\n",
      "--------------------\n",
      "0    a\n",
      "1    b\n",
      "2    c\n",
      "3    d\n",
      "dtype: object\n"
     ]
    }
   ],
   "source": [
    "print(\"\\n Holding text labels\\n\",'-'*20,sep='')\n",
    "print(pd.Series(labels))      "
   ]
  },
  {
   "cell_type": "code",
   "execution_count": 30,
   "metadata": {},
   "outputs": [],
   "source": [
    "ser1 = pd.Series([1,2,3,4],['CA','OR','CO','AZ'])\n",
    "ser2 = pd.Series([1,2,5,4],['CA','OR','NV','AZ'])\n"
   ]
  },
  {
   "cell_type": "code",
   "execution_count": 31,
   "metadata": {},
   "outputs": [
    {
     "data": {
      "text/plain": [
       "CA    1\n",
       "OR    2\n",
       "CO    3\n",
       "AZ    4\n",
       "dtype: int64"
      ]
     },
     "execution_count": 31,
     "metadata": {},
     "output_type": "execute_result"
    }
   ],
   "source": [
    "ser1"
   ]
  },
  {
   "cell_type": "code",
   "execution_count": 32,
   "metadata": {},
   "outputs": [
    {
     "data": {
      "text/plain": [
       "CA    1\n",
       "OR    2\n",
       "NV    5\n",
       "AZ    4\n",
       "dtype: int64"
      ]
     },
     "execution_count": 32,
     "metadata": {},
     "output_type": "execute_result"
    }
   ],
   "source": [
    "ser2"
   ]
  },
  {
   "cell_type": "code",
   "execution_count": 33,
   "metadata": {},
   "outputs": [
    {
     "name": "stdout",
     "output_type": "stream",
     "text": [
      "\n",
      " Indexing by name of the item (string identifier)\n",
      "--------------------------------------------------------\n",
      "Value for CA in Ser1: 1\n",
      "Value for AZ in Ser2: 4\n",
      "Value for NV in Ser2: 5\n"
     ]
    }
   ],
   "source": [
    "print(\"\\n Indexing by name of the item (string identifier)\\n\",'-'*56,sep='')\n",
    "print(\"Value for CA in Ser1:\",ser1['CA'])\n",
    "print(\"Value for AZ in Ser2:\",ser2['AZ'])\n",
    "print(\"Value for NV in Ser2:\",ser2['NV'])\n",
    "    "
   ]
  },
  {
   "cell_type": "code",
   "execution_count": 34,
   "metadata": {},
   "outputs": [
    {
     "name": "stdout",
     "output_type": "stream",
     "text": [
      "\n",
      " Indexing by number (Positional value in series)\n",
      "--------------------------------------------------\n",
      "Value for CA in ser1: 1\n",
      "Value for AZ in ser1: 4\n",
      "Value for NV in ser2: 5\n"
     ]
    }
   ],
   "source": [
    "print(\"\\n Indexing by number (Positional value in series)\\n\",'-'*50,sep='')\n",
    "print(\"Value for CA in ser1:\",ser1[0])\n",
    "print(\"Value for AZ in ser1:\",ser1[3])\n",
    "print(\"Value for NV in ser2:\",ser2[2])"
   ]
  },
  {
   "cell_type": "code",
   "execution_count": 35,
   "metadata": {},
   "outputs": [
    {
     "name": "stdout",
     "output_type": "stream",
     "text": [
      "\n",
      " Indexing by range \n",
      "-------------------------\n",
      "Value for OR,CO and AZ in ser1:\n",
      "OR    2\n",
      "CO    3\n",
      "AZ    4\n",
      "dtype: int64\n"
     ]
    }
   ],
   "source": [
    "print(\"\\n Indexing by range \\n\",'-'*25,sep='')\n",
    "print(\"Value for OR,CO and AZ in ser1:\\n\",\n",
    "     ser1[1:4],sep='')"
   ]
  },
  {
   "cell_type": "code",
   "execution_count": 36,
   "metadata": {},
   "outputs": [],
   "source": [
    "ser1 = pd.Series([1,2,3,4],['CA','OR','CO','AZ'])\n",
    "ser2 = pd.Series([1,2,5,4],['CA','OR','NV','AZ'])"
   ]
  },
  {
   "cell_type": "code",
   "execution_count": 37,
   "metadata": {},
   "outputs": [],
   "source": [
    "ser3 = ser1+ser2"
   ]
  },
  {
   "cell_type": "code",
   "execution_count": 38,
   "metadata": {},
   "outputs": [
    {
     "name": "stdout",
     "output_type": "stream",
     "text": [
      "AZ    8.0\n",
      "CA    2.0\n",
      "CO    NaN\n",
      "NV    NaN\n",
      "OR    4.0\n",
      "dtype: float64\n"
     ]
    }
   ],
   "source": [
    "print(ser3)"
   ]
  },
  {
   "cell_type": "code",
   "execution_count": 39,
   "metadata": {},
   "outputs": [],
   "source": [
    "#PYTHON SERIES TRIES TO ADD VALUES WHERE IT FINDS COMMON INDEX NAME AND PUTS NAN WHERE INDUCES ARE MISSING"
   ]
  },
  {
   "cell_type": "code",
   "execution_count": 40,
   "metadata": {},
   "outputs": [
    {
     "name": "stdout",
     "output_type": "stream",
     "text": [
      "\n",
      " The Idea works even for manupulation-----\n",
      "-------------------------------------------\n",
      "AZ    16.0\n",
      "CA     1.0\n",
      "CO     NaN\n",
      "NV     NaN\n",
      "OR     4.0\n",
      "dtype: float64\n"
     ]
    }
   ],
   "source": [
    "print(\"\\n The Idea works even for manupulation-----\\n\",'-'*43,sep='')\n",
    "print(ser1*ser2)"
   ]
  },
  {
   "cell_type": "code",
   "execution_count": 41,
   "metadata": {},
   "outputs": [
    {
     "name": "stdout",
     "output_type": "stream",
     "text": [
      "\n",
      " Or Even for combination of mathematical operation!\n",
      "-----------------------------------------------------\n",
      "AZ    55.200210\n",
      "CA     2.718282\n",
      "CO          NaN\n",
      "NV          NaN\n",
      "OR     7.690086\n",
      "dtype: float64\n"
     ]
    }
   ],
   "source": [
    "print(\"\\n Or Even for combination of mathematical operation!\\n\",'-'*53,sep='')\n",
    "print(np.exp(ser1)+np.log10(ser2))"
   ]
  },
  {
   "cell_type": "code",
   "execution_count": 42,
   "metadata": {},
   "outputs": [
    {
     "name": "stdout",
     "output_type": "stream",
     "text": [
      "\n",
      " The DataFrame looks like \n",
      "--------------------------------------------------\n",
      "          W         X         Y         Z\n",
      "A -1.749765  0.342680  1.153036 -0.252436\n",
      "B  0.981321  0.514219  0.221180 -1.070043\n",
      "C -0.189496  0.255001 -0.458027  0.435163\n",
      "D -0.583595  0.816847  0.672721 -0.104411\n",
      "E -0.531280  1.029733 -0.438136 -1.118318\n"
     ]
    }
   ],
   "source": [
    "from numpy.random import randn as rn \n",
    "np.random.seed(100)\n",
    "matrix_data = rn(5,4)\n",
    "row_labels = ['A','B','C','D','E']\n",
    "column_headings = ['W','X','Y','Z']\n",
    "df = pd.DataFrame(data=matrix_data,index=row_labels,columns=column_headings)\n",
    "print(\"\\n The DataFrame looks like \\n\",'-'*50,sep='')\n",
    "print(df)"
   ]
  },
  {
   "cell_type": "code",
   "execution_count": 43,
   "metadata": {},
   "outputs": [
    {
     "name": "stdout",
     "output_type": "stream",
     "text": [
      "\n",
      " The 'X'column \n",
      "-------------------------\n",
      "A    0.342680\n",
      "B    0.514219\n",
      "C    0.255001\n",
      "D    0.816847\n",
      "E    1.029733\n",
      "Name: X, dtype: float64\n"
     ]
    }
   ],
   "source": [
    "print(\"\\n The 'X'column \\n\",'-'*25,sep='')\n",
    "print(df['X'])"
   ]
  },
  {
   "cell_type": "code",
   "execution_count": 46,
   "metadata": {},
   "outputs": [
    {
     "name": "stdout",
     "output_type": "stream",
     "text": [
      "\n",
      " Type of column :<class 'pandas.core.series.Series'>\n",
      "\n",
      " The'x' and 'z' column indexed by passing a list \n",
      "-------------------------------------------------------\n",
      "          X         Z\n",
      "A  0.342680 -0.252436\n",
      "B  0.514219 -1.070043\n",
      "C  0.255001  0.435163\n",
      "D  0.816847 -0.104411\n",
      "E  1.029733 -1.118318\n"
     ]
    }
   ],
   "source": [
    "print(\"\\n Type of column :\", type(df['X']),sep='')\n",
    "print(\"\\n The'x' and 'z' column indexed by passing a list \\n\",'-'*55,sep='')\n",
    "print(df[['X','Z']])"
   ]
  },
  {
   "cell_type": "code",
   "execution_count": 47,
   "metadata": {},
   "outputs": [
    {
     "name": "stdout",
     "output_type": "stream",
     "text": [
      "\n",
      " Type of the pair of column<class 'pandas.core.frame.DataFrame'>\n",
      "\n",
      " So for more than one column ,the object turns into DataFrame\n"
     ]
    }
   ],
   "source": [
    "print(\"\\n Type of the pair of column\",type(df[['X','Z']]),sep='')\n",
    "print(\"\\n So for more than one column ,the object turns into DataFrame\")"
   ]
  },
  {
   "cell_type": "code",
   "execution_count": 48,
   "metadata": {},
   "outputs": [
    {
     "name": "stdout",
     "output_type": "stream",
     "text": [
      "\n",
      " The 'X'column accessed by by Dot method (Not recommended) \n",
      "-------------------------------------------------------\n",
      "A    0.342680\n",
      "B    0.514219\n",
      "C    0.255001\n",
      "D    0.816847\n",
      "E    1.029733\n",
      "Name: X, dtype: float64\n"
     ]
    }
   ],
   "source": [
    "print(\"\\n The 'X'column accessed by by Dot method (Not recommended) \\n\",'-'*55,sep='')\n",
    "print(df.X)"
   ]
  },
  {
   "cell_type": "code",
   "execution_count": null,
   "metadata": {},
   "outputs": [],
   "source": []
  }
 ],
 "metadata": {
  "kernelspec": {
   "display_name": "Python 3",
   "language": "python",
   "name": "python3"
  },
  "language_info": {
   "codemirror_mode": {
    "name": "ipython",
    "version": 3
   },
   "file_extension": ".py",
   "mimetype": "text/x-python",
   "name": "python",
   "nbconvert_exporter": "python",
   "pygments_lexer": "ipython3",
   "version": "3.8.5"
  }
 },
 "nbformat": 4,
 "nbformat_minor": 4
}
